{
 "cells": [
  {
   "cell_type": "code",
   "execution_count": 122,
   "metadata": {
    "scrolled": true
   },
   "outputs": [
    {
     "name": "stdout",
     "output_type": "stream",
     "text": [
      "rms error chebyshev approximation: 0.5918563785713568\n",
      "max error chebyshev approximation: 1.1371976709835607\n",
      "rms error linear least square fit: 5.278181875389455e-05\n",
      "max error linear least square fit: 0.00020209350456190656\n"
     ]
    },
    {
     "name": "stderr",
     "output_type": "stream",
     "text": [
      "C:\\Users\\ngren\\Anaconda3\\lib\\site-packages\\ipykernel_launcher.py:9: RuntimeWarning: invalid value encountered in log2\n",
      "  if __name__ == '__main__':\n"
     ]
    },
    {
     "data": {
      "image/png": "[encoded data removed]",
      "text/plain": [
       "<matplotlib.figure.Figure at 0x1c0b90413c8>"
      ]
     },
     "metadata": {},
     "output_type": "display_data"
    }
   ],
   "source": [
    "import numpy as np\n",
    "from numpy.polynomial import chebyshev\n",
    "import matplotlib.pyplot as plt\n",
    "import math\n",
    "\n",
    "a = 0.5\n",
    "b = 1\n",
    "def fun(x):\n",
    "    return np.log2(x)\n",
    "\n",
    "\n",
    "# lagrange-chebyshev fit\n",
    "\n",
    "# chebyshev polynomial fit\n",
    "\n",
    "def get_cheb_mat(x, order): # return chebyshev polynomial evaluations\n",
    "    T = np.zeros([x.size, order])\n",
    "    \n",
    "    # first two evaluations\n",
    "    T[:,0] = 1.0\n",
    "    if (order > 1):\n",
    "        T[:,1] = x\n",
    "    \n",
    "    # chebyshev recurrence relation\n",
    "    for i in range (1, order-1):\n",
    "        T[:,1+i] = 2*x*T[:,i] - T[:,i-1]\n",
    "            \n",
    "    return np.matrix(T)\n",
    "\n",
    "def get_cheb_coeff(order, func):\n",
    "    c = np.zeros(order)\n",
    "    for i in range (order):\n",
    "        for j in range (order):\n",
    "            c[i] += fun(np.cos(np.pi*(j+0.5))/order) * np.cos(np.pi*i*(j+0.5))/order\n",
    "    c *= 2.0/order\n",
    "    return c\n",
    "        \n",
    "# wrapper chebyshev fit with clenshaw's recurrence\n",
    "def cheb_fit_clen(a, b, x, order, func):\n",
    "    \n",
    "    N = len(x)\n",
    "    c = get_cheb_coeff(order, func)\n",
    "    m = order\n",
    "    d = np.zeros([N,m+2])\n",
    "    d_2 = np.zeros(N) # y_n+2\n",
    "    d_1 = np.zeros(N) # y_n+1\n",
    "        \n",
    "    for c in (c[::-1]):\n",
    "        (d_1, d_2) = (2*np.multiply(x,d_1) - d_2 + c, d_1) # chebyshev recurrence\n",
    "    \n",
    "    c_left = np.full(N,0.5*c)\n",
    "    return np.multiply(x,d_1) - d_2 + c_left\n",
    "\n",
    "# rms error\n",
    "def rms_err(x, y, py):\n",
    "    n = len(x)\n",
    "    rms = 0\n",
    "    for i in range (n):\n",
    "        rms += (py[i] - y[i])**2\n",
    "    rms /= n\n",
    "    rms = np.sqrt(rms)\n",
    "    return rms\n",
    "\n",
    "# max error\n",
    "def max_err(x, y, py):\n",
    "    maxerr = 0\n",
    "    for i in range (len(x)):\n",
    "        err = np.abs(py[i]-y[i])\n",
    "        if (err > maxerr):\n",
    "            maxerr = err\n",
    "    return maxerr\n",
    "\n",
    "# error print\n",
    "\n",
    "order = 6\n",
    "n = 1000\n",
    "x = np.linspace(a,b,n)\n",
    "y = fun(x)\n",
    "x = (2*x-a-b)/(b-a) # scale to [-1,1]\n",
    "y_new = cheb_fit_clen(a,b,x,order,fun)\n",
    "\n",
    "# least square fit\n",
    "lorder = 4\n",
    "pfit = np.polyfit(x, y, lorder)\n",
    "ly = np.polyval(pfit, x)\n",
    "\n",
    "print(\"rms error chebyshev approximation: \" + str(rms_err(x, y, py)))\n",
    "print(\"max error chebyshev approximation: \" + str(max_err(x, y, py)))\n",
    "print(\"rms error linear least square fit: \" + str(rms_err(x, y, ly)))\n",
    "print(\"max error linear least square fit: \" + str(max_err(x, y, ly)))\n",
    "\n",
    "ax1=plt.subplot(211)\n",
    "plt.plot(x, y, 'r-')\n",
    "plt.plot(x, y_new, 'k-')\n",
    "\n",
    "ax2=plt.subplot(212, sharex=ax1)\n",
    "plt.plot(x,np.abs(y-py), 'k-')\n",
    "plt.show()"
   ]
  },
  {
   "cell_type": "code",
   "execution_count": null,
   "metadata": {
    "collapsed": true
   },
   "outputs": [],
   "source": []
  }
 ],
 "metadata": {
  "kernelspec": {
   "display_name": "Python 3",
   "language": "python",
   "name": "python3"
  },
  "language_info": {
   "codemirror_mode": {
    "name": "ipython",
    "version": 3
   },
   "file_extension": ".py",
   "mimetype": "text/x-python",
   "name": "python",
   "nbconvert_exporter": "python",
   "pygments_lexer": "ipython3",
   "version": "3.6.1"
  }
 },
 "nbformat": 4,
 "nbformat_minor": 2
}
