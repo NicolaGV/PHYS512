{
 "cells": [
  {
   "cell_type": "markdown",
   "metadata": {},
   "source": [
    "### Exponential decay model\n",
    "If we expect an exponential decay, the model should be non linear as it can be approximated as an infinite series of polynomials.\n",
    "Given the exponential decaying model $N(t)=N_0e^{-\\lambda t}$,\n",
    "good parameters guesses would be $N_0 = 1.25$ and $\\lambda = 100$, the later estimated by looking at the half-life by looking at the plot below.\n",
    "\n",
    "$ Am^T*N^-1*Am*dm=Am^T*N^-1*r$"
   ]
  },
  {
   "cell_type": "code",
   "execution_count": 8,
   "metadata": {
    "collapsed": true
   },
   "outputs": [],
   "source": [
    "def exponential_decay(t, p): # p = ([N0, lamda])\n",
    "    \n",
    "    N = len(t)\n",
    "    new_y = np.zeros(N)\n",
    "    for i in range (N):\n",
    "        new_y[i] = p[0] * np.exp(-p[1]*t[i])\n",
    "    \n",
    "    plt.plot(t, new_y)\n",
    "    grad = np.zeros([t.size, p.size])\n",
    "    grad[:,0] = np.exp(-p[1] * t)\n",
    "    grad[:,1] = -p[1]*p[0]*np.exp(-p[1] * t)\n",
    "    return new_y, grad # predictions and gradients"
   ]
  },
  {
   "cell_type": "code",
   "execution_count": 20,
   "metadata": {},
   "outputs": [
    {
     "data": {
      "image/png": "[encoded data removed]",
      "text/plain": [
       "<matplotlib.figure.Figure at 0x1992c41f940>"
      ]
     },
     "metadata": {},
     "output_type": "display_data"
    }
   ],
   "source": [
    "import numpy as np\n",
    "import matplotlib.pyplot as plt\n",
    "\n",
    "data = np.transpose(np.loadtxt('229614158_PDCSAP_SC6.txt',delimiter=','))\n",
    "# optical light curve from a flaring M-dward star observed by the HESS telescope\n",
    "# source : Matt Lundy\n",
    "# first column = time\n",
    "# second column = flux\n",
    "# third colum -> ignore\n",
    "\n",
    "# Set left and right time values to slice the data\n",
    "a = 1706.52314133376\n",
    "b = 1706.60647466709\n",
    "\n",
    "inda = np.where(data[0] == a)\n",
    "indb = np.where(data[0] == b)\n",
    "t = data[0][int(inda[0]): int(indb[0]):] - a # time starts at 0\n",
    "y = data[1][int(inda[0]): int(indb[0]):]\n",
    "\n",
    "p = np.zeros([2,1]) # p - initial guess\n",
    "p[0,0] = 1.25 # N0\n",
    "p[1,0] = 70 # lamda\n",
    "y_pred, grad = exponential_decay(t,p)\n",
    "\n",
    "plt.clf()\n",
    "plt.plot(t, y, 'r.-', label=\"data\")\n",
    "plt.plot(t, y_pred, 'k.-', label=\"init pred\")\n",
    "plt.legend()\n",
    "#plt.xlim(left=0, right=b-a)\n",
    "plt.xlabel(\"time\")\n",
    "plt.ylabel(\"flux\")\n",
    "plt.show()"
   ]
  },
  {
   "cell_type": "markdown",
   "metadata": {},
   "source": [
    "The Newton-Raphson method essentially consists of minimizing ${\\chi}^2$ by solving for dm in the equation:\n",
    "$$A_m^TN^{-1}A_mdm=A_m^TN^{-1}r$$\n",
    "and then to the iteration $m_0 \\rightarrow m_0 + dm$ to change the guess of the parameters."
   ]
  },
  {
   "cell_type": "code",
   "execution_count": 75,
   "metadata": {},
   "outputs": [
    {
     "name": "stdout",
     "output_type": "stream",
     "text": [
      "[[ 9.81494974 -3.68060615]\n",
      " [-3.68060615  1.38022731]]\n"
     ]
    },
    {
     "ename": "LinAlgError",
     "evalue": "Singular matrix",
     "output_type": "error",
     "traceback": [
      "\u001b[1;31m---------------------------------------------------------------------------\u001b[0m",
      "\u001b[1;31mLinAlgError\u001b[0m                               Traceback (most recent call last)",
      "\u001b[1;32m<ipython-input-75-dad3a42d4293>\u001b[0m in \u001b[0;36m<module>\u001b[1;34m()\u001b[0m\n\u001b[0;32m     17\u001b[0m     \u001b[0mrhs\u001b[0m \u001b[1;33m=\u001b[0m \u001b[0mnp\u001b[0m\u001b[1;33m.\u001b[0m\u001b[0mdot\u001b[0m\u001b[1;33m(\u001b[0m\u001b[0mAm\u001b[0m\u001b[1;33m.\u001b[0m\u001b[0mtranspose\u001b[0m\u001b[1;33m(\u001b[0m\u001b[1;33m)\u001b[0m\u001b[1;33m,\u001b[0m \u001b[0mr\u001b[0m\u001b[1;33m)\u001b[0m \u001b[1;31m# Am^T*N^-1*r\u001b[0m\u001b[1;33m\u001b[0m\u001b[0m\n\u001b[0;32m     18\u001b[0m     \u001b[0mprint\u001b[0m\u001b[1;33m(\u001b[0m\u001b[0mlhs\u001b[0m\u001b[1;33m)\u001b[0m\u001b[1;33m\u001b[0m\u001b[0m\n\u001b[1;32m---> 19\u001b[1;33m     \u001b[0mdm\u001b[0m \u001b[1;33m=\u001b[0m \u001b[0mnp\u001b[0m\u001b[1;33m.\u001b[0m\u001b[0mdot\u001b[0m\u001b[1;33m(\u001b[0m\u001b[0mnp\u001b[0m\u001b[1;33m.\u001b[0m\u001b[0mlinalg\u001b[0m\u001b[1;33m.\u001b[0m\u001b[0minv\u001b[0m\u001b[1;33m(\u001b[0m\u001b[0mlhs\u001b[0m\u001b[1;33m)\u001b[0m\u001b[1;33m,\u001b[0m \u001b[0mrhs\u001b[0m\u001b[1;33m)\u001b[0m\u001b[1;33m\u001b[0m\u001b[0m\n\u001b[0m\u001b[0;32m     20\u001b[0m     \u001b[0mp\u001b[0m \u001b[1;33m=\u001b[0m \u001b[0mp\u001b[0m\u001b[1;33m+\u001b[0m\u001b[0mdm\u001b[0m\u001b[1;33m\u001b[0m\u001b[0m\n\u001b[0;32m     21\u001b[0m \u001b[1;33m\u001b[0m\u001b[0m\n",
      "\u001b[1;32mC:\\Users\\ngren\\Anaconda3\\lib\\site-packages\\numpy\\linalg\\linalg.py\u001b[0m in \u001b[0;36minv\u001b[1;34m(a)\u001b[0m\n\u001b[0;32m    549\u001b[0m     \u001b[0msignature\u001b[0m \u001b[1;33m=\u001b[0m \u001b[1;34m'D->D'\u001b[0m \u001b[1;32mif\u001b[0m \u001b[0misComplexType\u001b[0m\u001b[1;33m(\u001b[0m\u001b[0mt\u001b[0m\u001b[1;33m)\u001b[0m \u001b[1;32melse\u001b[0m \u001b[1;34m'd->d'\u001b[0m\u001b[1;33m\u001b[0m\u001b[0m\n\u001b[0;32m    550\u001b[0m     \u001b[0mextobj\u001b[0m \u001b[1;33m=\u001b[0m \u001b[0mget_linalg_error_extobj\u001b[0m\u001b[1;33m(\u001b[0m\u001b[0m_raise_linalgerror_singular\u001b[0m\u001b[1;33m)\u001b[0m\u001b[1;33m\u001b[0m\u001b[0m\n\u001b[1;32m--> 551\u001b[1;33m     \u001b[0mainv\u001b[0m \u001b[1;33m=\u001b[0m \u001b[0m_umath_linalg\u001b[0m\u001b[1;33m.\u001b[0m\u001b[0minv\u001b[0m\u001b[1;33m(\u001b[0m\u001b[0ma\u001b[0m\u001b[1;33m,\u001b[0m \u001b[0msignature\u001b[0m\u001b[1;33m=\u001b[0m\u001b[0msignature\u001b[0m\u001b[1;33m,\u001b[0m \u001b[0mextobj\u001b[0m\u001b[1;33m=\u001b[0m\u001b[0mextobj\u001b[0m\u001b[1;33m)\u001b[0m\u001b[1;33m\u001b[0m\u001b[0m\n\u001b[0m\u001b[0;32m    552\u001b[0m     \u001b[1;32mreturn\u001b[0m \u001b[0mwrap\u001b[0m\u001b[1;33m(\u001b[0m\u001b[0mainv\u001b[0m\u001b[1;33m.\u001b[0m\u001b[0mastype\u001b[0m\u001b[1;33m(\u001b[0m\u001b[0mresult_t\u001b[0m\u001b[1;33m,\u001b[0m \u001b[0mcopy\u001b[0m\u001b[1;33m=\u001b[0m\u001b[1;32mFalse\u001b[0m\u001b[1;33m)\u001b[0m\u001b[1;33m)\u001b[0m\u001b[1;33m\u001b[0m\u001b[0m\n\u001b[0;32m    553\u001b[0m \u001b[1;33m\u001b[0m\u001b[0m\n",
      "\u001b[1;32mC:\\Users\\ngren\\Anaconda3\\lib\\site-packages\\numpy\\linalg\\linalg.py\u001b[0m in \u001b[0;36m_raise_linalgerror_singular\u001b[1;34m(err, flag)\u001b[0m\n\u001b[0;32m     95\u001b[0m \u001b[1;33m\u001b[0m\u001b[0m\n\u001b[0;32m     96\u001b[0m \u001b[1;32mdef\u001b[0m \u001b[0m_raise_linalgerror_singular\u001b[0m\u001b[1;33m(\u001b[0m\u001b[0merr\u001b[0m\u001b[1;33m,\u001b[0m \u001b[0mflag\u001b[0m\u001b[1;33m)\u001b[0m\u001b[1;33m:\u001b[0m\u001b[1;33m\u001b[0m\u001b[0m\n\u001b[1;32m---> 97\u001b[1;33m     \u001b[1;32mraise\u001b[0m \u001b[0mLinAlgError\u001b[0m\u001b[1;33m(\u001b[0m\u001b[1;34m\"Singular matrix\"\u001b[0m\u001b[1;33m)\u001b[0m\u001b[1;33m\u001b[0m\u001b[0m\n\u001b[0m\u001b[0;32m     98\u001b[0m \u001b[1;33m\u001b[0m\u001b[0m\n\u001b[0;32m     99\u001b[0m \u001b[1;32mdef\u001b[0m \u001b[0m_raise_linalgerror_nonposdef\u001b[0m\u001b[1;33m(\u001b[0m\u001b[0merr\u001b[0m\u001b[1;33m,\u001b[0m \u001b[0mflag\u001b[0m\u001b[1;33m)\u001b[0m\u001b[1;33m:\u001b[0m\u001b[1;33m\u001b[0m\u001b[0m\n",
      "\u001b[1;31mLinAlgError\u001b[0m: Singular matrix"
     ]
    }
   ],
   "source": [
    "num_iterations = 1\n",
    "\n",
    "# Am^T*N^-1*Am*dm=Am^T*N^-1*r\n",
    "# m0 -> m0 + dm\n",
    "for i in range(num_iterations):\n",
    "    y_pred, Am = exponential_decay(t,p)\n",
    "    r = y - y_pred # d-A(m)->r\n",
    "    err=(r**2).sum()\n",
    "    r = np.matrix(r)\n",
    "    r = np.transpose(r)\n",
    "    Am = np.matrix(Am)\n",
    "    \n",
    "    lhs = Am.transpose()*Am # Am^T*N^-1*Am\n",
    "    rhs = np.dot(Am.transpose(), r) # Am^T*N^-1*r\n",
    "    print(lhs)\n",
    "    dm = np.dot(np.linalg.inv(lhs), rhs)\n",
    "    p = p+dm\n",
    "    \n",
    "    print(p)\n",
    "    print(err)\n",
    "    print('\\n')\n",
    "\n",
    "plt.plot(t, y, 'k.-')\n",
    "#plt.plot(t,y_pred)\n",
    "plt.xlabel(\"time\")\n",
    "plt.ylabel(\"flux\")\n",
    "plt.show()"
   ]
  },
  {
   "cell_type": "code",
   "execution_count": null,
   "metadata": {
    "collapsed": true
   },
   "outputs": [],
   "source": []
  }
 ],
 "metadata": {
  "kernelspec": {
   "display_name": "Python 3",
   "language": "python",
   "name": "python3"
  },
  "language_info": {
   "codemirror_mode": {
    "name": "ipython",
    "version": 3
   },
   "file_extension": ".py",
   "mimetype": "text/x-python",
   "name": "python",
   "nbconvert_exporter": "python",
   "pygments_lexer": "ipython3",
   "version": "3.6.1"
  }
 },
 "nbformat": 4,
 "nbformat_minor": 2
}
